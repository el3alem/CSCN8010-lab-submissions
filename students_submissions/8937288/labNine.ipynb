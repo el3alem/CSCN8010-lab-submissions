{
 "cells": [
  {
   "cell_type": "markdown",
   "metadata": {},
   "source": [
    "#### Student Name: Omar Elalem no.:8937288"
   ]
  },
  {
   "cell_type": "code",
   "execution_count": 28,
   "metadata": {},
   "outputs": [],
   "source": [
    "import tensorflow as tf\n",
    "from tensorflow import keras\n",
    "from tensorflow.keras import layers\n",
    "from tensorflow.keras.datasets import fashion_mnist\n",
    "import numpy as np\n",
    "import matplotlib.pyplot as plt\n",
    "from keras.utils import to_categorical\n",
    "import sklearn\n",
    "from sklearn.metrics import confusion_matrix\n"
   ]
  },
  {
   "cell_type": "code",
   "execution_count": 29,
   "metadata": {},
   "outputs": [],
   "source": [
    "(train_images,train_labels),(test_images,test_labels) = fashion_mnist.load_data()"
   ]
  },
  {
   "cell_type": "code",
   "execution_count": 30,
   "metadata": {},
   "outputs": [
    {
     "name": "stdout",
     "output_type": "stream",
     "text": [
      "Train Data: Images: (60000, 28, 28) Labels: (60000,)\n",
      "Test Data: Images:(10000, 28, 28) Labels:(10000,)\n"
     ]
    }
   ],
   "source": [
    "\n",
    "print('Train Data:',f'Images: {train_images.shape}',f'Labels: {train_labels.shape}') \n",
    "\n",
    "print('Test Data:',f'Images:{test_images.shape}',f'Labels:{test_labels.shape}') \n"
   ]
  },
  {
   "cell_type": "code",
   "execution_count": 31,
   "metadata": {},
   "outputs": [],
   "source": [
    "class_name = [\"T-shirt/top\", \"Trouser\", \"Pullover\", \"Dress\",\n",
    "    \"Coat\", \"Sandal\", \"Shirt\", \"Sneaker\", \"Bag\", \"Ankle boot\"]"
   ]
  },
  {
   "cell_type": "code",
   "execution_count": 32,
   "metadata": {},
   "outputs": [
    {
     "data": {
      "text/plain": [
       "<matplotlib.image.AxesImage at 0x2a544d6f070>"
      ]
     },
     "execution_count": 32,
     "metadata": {},
     "output_type": "execute_result"
    },
    {
     "data": {
      "image/png": "[encoded data removed]",
      "text/plain": [
       "<Figure size 640x480 with 1 Axes>"
      ]
     },
     "metadata": {},
     "output_type": "display_data"
    }
   ],
   "source": [
    "plt.imshow(train_images[0],cmap= \"gray\")#Ankle boot"
   ]
  },
  {
   "cell_type": "code",
   "execution_count": 33,
   "metadata": {},
   "outputs": [],
   "source": [
    "train_images = train_images.reshape((60000,28*28)) \n",
    "test_images = test_images.reshape((10000, 28*28))"
   ]
  },
  {
   "cell_type": "code",
   "execution_count": 34,
   "metadata": {},
   "outputs": [],
   "source": [
    "train_images = train_images.astype(\"float32\")/255 # normalizing the data [0,1] \n",
    "test_images = test_images.astype(\"float32\")/255"
   ]
  },
  {
   "cell_type": "code",
   "execution_count": 35,
   "metadata": {},
   "outputs": [],
   "source": [
    "model = keras.Sequential([\n",
    "    layers.Dense(512, activation=\"relu\"),  # 512 neurons are relu activation function\n",
    "    layers.Dense(10, activation=\"softmax\")  #10 neuron are softmax activation function\n",
    "])"
   ]
  },
  {
   "cell_type": "code",
   "execution_count": 36,
   "metadata": {},
   "outputs": [],
   "source": [
    "model.compile(optimizer=\"rmsprop\",  # RMSProp is discussed in the Optimizers section\n",
    "              loss=\"sparse_categorical_crossentropy\",\n",
    "              metrics=[\"accuracy\"])"
   ]
  },
  {
   "cell_type": "code",
   "execution_count": 37,
   "metadata": {},
   "outputs": [
    {
     "name": "stdout",
     "output_type": "stream",
     "text": [
      "Epoch 1/5\n",
      "469/469 [==============================] - 9s 17ms/step - loss: 0.5541 - accuracy: 0.8019\n",
      "Epoch 2/5\n",
      "469/469 [==============================] - 8s 18ms/step - loss: 0.3870 - accuracy: 0.8584\n",
      "Epoch 3/5\n",
      "469/469 [==============================] - 9s 18ms/step - loss: 0.3403 - accuracy: 0.8741\n",
      "Epoch 4/5\n",
      "469/469 [==============================] - 9s 18ms/step - loss: 0.3133 - accuracy: 0.8846\n",
      "Epoch 5/5\n",
      "469/469 [==============================] - 8s 17ms/step - loss: 0.2948 - accuracy: 0.8903\n"
     ]
    },
    {
     "data": {
      "text/plain": [
       "<keras.callbacks.History at 0x2a543db6ac0>"
      ]
     },
     "execution_count": 37,
     "metadata": {},
     "output_type": "execute_result"
    }
   ],
   "source": [
    "model.fit(train_images, train_labels, epochs=5, batch_size=128)"
   ]
  },
  {
   "cell_type": "code",
   "execution_count": 38,
   "metadata": {},
   "outputs": [
    {
     "name": "stdout",
     "output_type": "stream",
     "text": [
      "1/1 [==============================] - 0s 114ms/step\n"
     ]
    },
    {
     "data": {
      "text/plain": [
       "array([[7.1837053e-06, 5.3662114e-07, 4.6585142e-06, 5.3491176e-06,\n",
       "        1.9227903e-06, 1.9670079e-02, 7.2364514e-06, 4.4290483e-02,\n",
       "        1.8837632e-04, 9.3582416e-01]], dtype=float32)"
      ]
     },
     "execution_count": 38,
     "metadata": {},
     "output_type": "execute_result"
    }
   ],
   "source": [
    "prediction = model.predict(test_images[0:1]) #convert 2D array os shape\n",
    "prediction"
   ]
  },
  {
   "cell_type": "code",
   "execution_count": 39,
   "metadata": {},
   "outputs": [
    {
     "data": {
      "text/plain": [
       "9"
      ]
     },
     "execution_count": 39,
     "metadata": {},
     "output_type": "execute_result"
    }
   ],
   "source": [
    "prediction.argmax() #its most probabily estimated to be class no.9 "
   ]
  },
  {
   "cell_type": "code",
   "execution_count": 40,
   "metadata": {},
   "outputs": [
    {
     "data": {
      "text/plain": [
       "9"
      ]
     },
     "execution_count": 40,
     "metadata": {},
     "output_type": "execute_result"
    }
   ],
   "source": [
    "test_labels[0]  #known label"
   ]
  },
  {
   "cell_type": "code",
   "execution_count": 41,
   "metadata": {},
   "outputs": [
    {
     "name": "stdout",
     "output_type": "stream",
     "text": [
      "313/313 [==============================] - 2s 6ms/step - loss: 0.3679 - accuracy: 0.8726\n",
      "test_acc: 0.8726000189781189\n"
     ]
    }
   ],
   "source": [
    "test_loss, test_acc = model.evaluate(test_images, test_labels)\n",
    "print(f\"test_acc: {test_acc}\")"
   ]
  },
  {
   "cell_type": "code",
   "execution_count": 42,
   "metadata": {},
   "outputs": [
    {
     "name": "stdout",
     "output_type": "stream",
     "text": [
      "   1/1875 [..............................] - ETA: 1:25 - loss: 0.4037 - accuracy: 0.9062"
     ]
    },
    {
     "name": "stdout",
     "output_type": "stream",
     "text": [
      "1875/1875 [==============================] - 11s 6ms/step - loss: 0.2842 - accuracy: 0.8938\n",
      "train_acc: 0.8937666416168213\n"
     ]
    }
   ],
   "source": [
    "test_loss, train_acc = model.evaluate(train_images, train_labels)\n",
    "print(f\"train_acc: {train_acc}\")"
   ]
  },
  {
   "cell_type": "code",
   "execution_count": 43,
   "metadata": {},
   "outputs": [
    {
     "name": "stdout",
     "output_type": "stream",
     "text": [
      "313/313 [==============================] - 2s 6ms/step\n"
     ]
    },
    {
     "data": {
      "text/plain": [
       "array([[819,   0,  19,  52,   1,   2, 104,   0,   3,   0],\n",
       "       [  2, 965,   1,  27,   3,   0,   2,   0,   0,   0],\n",
       "       [ 10,   0, 893,  12,  44,   0,  40,   0,   1,   0],\n",
       "       [ 11,   3,  19, 933,  10,   0,  21,   0,   3,   0],\n",
       "       [  1,   0, 225,  58, 666,   0,  50,   0,   0,   0],\n",
       "       [  0,   0,   0,   1,   0, 944,   0,  35,   2,  18],\n",
       "       [113,   1, 145,  45,  63,   0, 624,   0,   9,   0],\n",
       "       [  0,   0,   0,   0,   0,   7,   0, 968,   0,  25],\n",
       "       [  5,   0,  11,   6,   3,   1,   4,   5, 965,   0],\n",
       "       [  0,   0,   0,   1,   0,   5,   1,  44,   0, 949]], dtype=int64)"
      ]
     },
     "execution_count": 43,
     "metadata": {},
     "output_type": "execute_result"
    }
   ],
   "source": [
    "predictions = model.predict(test_images)\n",
    "predictedLabels = np.argmax(predictions, axis=1)\n",
    "confusionMatrix = confusion_matrix(test_labels, predictedLabels)\n",
    "confusionMatrix"
   ]
  },
  {
   "cell_type": "markdown",
   "metadata": {},
   "source": [
    "\n",
    "From the Confusion Matrix, we can gain various insights into the model's performance across different classes. The matrix distinguishes between correctly classified instances, represented by the diagonal elements, and misclassifications, which occur in the off-diagonal elements.\n",
    "\n",
    "Classes with prominent diagonal values, such as T-shirt, Trouser, Sandal, and Bag, indicate that the model excelled in accurately distinguishing these categories.\n",
    "\n",
    "Conversely, classes with off-diagonal values, like T-shirt and Shirt being misclassified, along with Coat and Shirt being mistakenly labeled as Pullover, and instances where Sneakers were misclassified as Ankle Boot or Sandal, reveal areas where the model struggled with accurate classification."
   ]
  }
 ],
 "metadata": {
  "kernelspec": {
   "display_name": "tensorflow_cpu",
   "language": "python",
   "name": "python3"
  },
  "language_info": {
   "codemirror_mode": {
    "name": "ipython",
    "version": 3
   },
   "file_extension": ".py",
   "mimetype": "text/x-python",
   "name": "python",
   "nbconvert_exporter": "python",
   "pygments_lexer": "ipython3",
   "version": "3.9.7"
  }
 },
 "nbformat": 4,
 "nbformat_minor": 2
}
