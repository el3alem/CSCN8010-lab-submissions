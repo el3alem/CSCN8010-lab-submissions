{
 "cells": [
  {
   "cell_type": "markdown",
   "metadata": {},
   "source": [
    "## Student Name: Omar Elalem no.8937288"
   ]
  },
  {
   "cell_type": "markdown",
   "metadata": {},
   "source": [
    "## Starting with Pytorch"
   ]
  },
  {
   "cell_type": "code",
   "execution_count": 1,
   "metadata": {},
   "outputs": [
    {
     "name": "stdout",
     "output_type": "stream",
     "text": [
      "Tensor: tensor([10, 10])\n",
      "PyTorch version: 2.0.0+cpu\n",
      "Succeeded\n"
     ]
    }
   ],
   "source": [
    "try:\n",
    "    import torch\n",
    "    print(f'Tensor: {torch.tensor([10, 10])}')\n",
    "    print(f'PyTorch version: {torch.__version__}')    \n",
    "    print('Succeeded')\n",
    "except:\n",
    "    print(\"Didn't succeed\")"
   ]
  },
  {
   "cell_type": "code",
   "execution_count": 2,
   "metadata": {},
   "outputs": [
    {
     "name": "stdout",
     "output_type": "stream",
     "text": [
      "tensor(32)\n"
     ]
    }
   ],
   "source": [
    "# Calculate the dot product between two vectors each of length 3\n",
    "v1 = torch.tensor([1, 2, 3])\n",
    "v2 = torch.tensor([4, 5, 6])\n",
    "\n",
    "# Calculate the dot product \n",
    "print(torch.dot(v1, v2))"
   ]
  },
  {
   "cell_type": "code",
   "execution_count": 3,
   "metadata": {},
   "outputs": [
    {
     "name": "stdout",
     "output_type": "stream",
     "text": [
      "tensor([[19, 22],\n",
      "        [43, 50]])\n"
     ]
    }
   ],
   "source": [
    "# create 2 2D matrices size of (2,2)\n",
    "x = torch.tensor([[1, 2],[3, 4]])\n",
    "y = torch.tensor([[5, 6],[7, 8]])\n",
    "\n",
    "# Calculate the matrix multiplication\n",
    "print(torch.matmul(x, y))"
   ]
  },
  {
   "cell_type": "markdown",
   "metadata": {},
   "source": [
    "## now using tensorflow"
   ]
  },
  {
   "cell_type": "code",
   "execution_count": 1,
   "metadata": {},
   "outputs": [
    {
     "name": "stdout",
     "output_type": "stream",
     "text": [
      "Tensor: [10 10]\n",
      "Tensorflow version: 2.12.0\n",
      "Succeeded\n"
     ]
    }
   ],
   "source": [
    "try:\n",
    "    import tensorflow as tf\n",
    "    print(f'Tensor: {tf.constant([10, 10])}')\n",
    "    print(f'Tensorflow version: {tf.__version__}')    \n",
    "    print('Succeeded')\n",
    "except:\n",
    "    print(\"Didn't succeed\")"
   ]
  },
  {
   "cell_type": "code",
   "execution_count": 2,
   "metadata": {},
   "outputs": [
    {
     "name": "stdout",
     "output_type": "stream",
     "text": [
      "tf.Tensor(32, shape=(), dtype=int32)\n"
     ]
    }
   ],
   "source": [
    "# Create 2 vectors each of length 3\n",
    "v1 = tf.constant([1, 2, 3])\n",
    "v2 = tf.constant([4, 5, 6])\n",
    "\n",
    "# Calculate the dot product \n",
    "print(tf.tensordot(v1, v2, axes=1))"
   ]
  },
  {
   "cell_type": "code",
   "execution_count": 3,
   "metadata": {},
   "outputs": [
    {
     "name": "stdout",
     "output_type": "stream",
     "text": [
      "tf.Tensor(\n",
      "[[19 22]\n",
      " [43 50]], shape=(2, 2), dtype=int32)\n"
     ]
    }
   ],
   "source": [
    "# create 2 2D matrices size of (2,2)\n",
    "x = tf.constant([[1, 2], [3, 4]])\n",
    "y = tf.constant([[5, 6],[7, 8]])\n",
    "# Calculate the matrix multiplication\n",
    "print(tf.matmul(x, y))"
   ]
  }
 ],
 "metadata": {
  "kernelspec": {
   "display_name": "pytorch_cpu",
   "language": "python",
   "name": "python3"
  },
  "language_info": {
   "codemirror_mode": {
    "name": "ipython",
    "version": 3
   },
   "file_extension": ".py",
   "mimetype": "text/x-python",
   "name": "python",
   "nbconvert_exporter": "python",
   "pygments_lexer": "ipython3",
   "version": "3.9.7"
  }
 },
 "nbformat": 4,
 "nbformat_minor": 2
}
